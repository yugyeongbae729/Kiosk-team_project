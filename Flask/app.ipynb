{
 "cells": [
  {
   "cell_type": "code",
   "execution_count": 43,
   "metadata": {},
   "outputs": [
    {
     "name": "stdout",
     "output_type": "stream",
     "text": [
      "Requirement already satisfied: transformers in c:\\users\\user\\anaconda3\\envs\\flask\\lib\\site-packages (4.42.3)\n",
      "Requirement already satisfied: tf-keras in c:\\users\\user\\anaconda3\\envs\\flask\\lib\\site-packages (2.15.0)\n",
      "Requirement already satisfied: filelock in c:\\users\\user\\anaconda3\\envs\\flask\\lib\\site-packages (from transformers) (3.15.4)\n",
      "Requirement already satisfied: huggingface-hub<1.0,>=0.23.2 in c:\\users\\user\\anaconda3\\envs\\flask\\lib\\site-packages (from transformers) (0.23.4)\n",
      "Requirement already satisfied: numpy<2.0,>=1.17 in c:\\users\\user\\anaconda3\\envs\\flask\\lib\\site-packages (from transformers) (1.26.4)\n",
      "Requirement already satisfied: packaging>=20.0 in c:\\users\\user\\anaconda3\\envs\\flask\\lib\\site-packages (from transformers) (24.1)\n",
      "Requirement already satisfied: pyyaml>=5.1 in c:\\users\\user\\anaconda3\\envs\\flask\\lib\\site-packages (from transformers) (6.0.1)\n",
      "Requirement already satisfied: regex!=2019.12.17 in c:\\users\\user\\anaconda3\\envs\\flask\\lib\\site-packages (from transformers) (2024.5.15)\n",
      "Requirement already satisfied: requests in c:\\users\\user\\anaconda3\\envs\\flask\\lib\\site-packages (from transformers) (2.32.3)\n",
      "Requirement already satisfied: safetensors>=0.4.1 in c:\\users\\user\\anaconda3\\envs\\flask\\lib\\site-packages (from transformers) (0.4.3)\n",
      "Requirement already satisfied: tokenizers<0.20,>=0.19 in c:\\users\\user\\anaconda3\\envs\\flask\\lib\\site-packages (from transformers) (0.19.1)\n",
      "Requirement already satisfied: tqdm>=4.27 in c:\\users\\user\\anaconda3\\envs\\flask\\lib\\site-packages (from transformers) (4.66.4)\n",
      "Requirement already satisfied: fsspec>=2023.5.0 in c:\\users\\user\\anaconda3\\envs\\flask\\lib\\site-packages (from huggingface-hub<1.0,>=0.23.2->transformers) (2024.6.1)\n",
      "Requirement already satisfied: typing-extensions>=3.7.4.3 in c:\\users\\user\\anaconda3\\envs\\flask\\lib\\site-packages (from huggingface-hub<1.0,>=0.23.2->transformers) (4.12.2)\n",
      "Requirement already satisfied: colorama in c:\\users\\user\\anaconda3\\envs\\flask\\lib\\site-packages (from tqdm>=4.27->transformers) (0.4.6)\n",
      "Requirement already satisfied: charset-normalizer<4,>=2 in c:\\users\\user\\anaconda3\\envs\\flask\\lib\\site-packages (from requests->transformers) (3.3.2)\n",
      "Requirement already satisfied: idna<4,>=2.5 in c:\\users\\user\\anaconda3\\envs\\flask\\lib\\site-packages (from requests->transformers) (3.7)\n",
      "Requirement already satisfied: urllib3<3,>=1.21.1 in c:\\users\\user\\anaconda3\\envs\\flask\\lib\\site-packages (from requests->transformers) (2.2.2)\n",
      "Requirement already satisfied: certifi>=2017.4.17 in c:\\users\\user\\anaconda3\\envs\\flask\\lib\\site-packages (from requests->transformers) (2024.7.4)\n"
     ]
    }
   ],
   "source": [
    "!pip install transformers tf-keras"
   ]
  },
  {
   "cell_type": "code",
   "execution_count": 2,
   "metadata": {},
   "outputs": [
    {
     "name": "stdout",
     "output_type": "stream",
     "text": [
      " * Serving Flask app '__main__'\n",
      " * Debug mode: off\n"
     ]
    },
    {
     "name": "stderr",
     "output_type": "stream",
     "text": [
      "WARNING: This is a development server. Do not use it in a production deployment. Use a production WSGI server instead.\n",
      " * Running on http://127.0.0.1:5000\n",
      "Press CTRL+C to quit\n"
     ]
    },
    {
     "name": "stdout",
     "output_type": "stream",
     "text": [
      "[{'text': '주문하기 버튼을 눌러주세요.'}, {'text': '매장에서 먹기를 선택해주세요.'}]\n",
      "주문하기 버튼을 눌러주세요.\n",
      "매장에서 먹기를 선택해주세요.\n"
     ]
    },
    {
     "name": "stderr",
     "output_type": "stream",
     "text": [
      "127.0.0.1 - - [31/Jul/2024 20:04:35] \"POST /data HTTP/1.1\" 200 -\n"
     ]
    },
    {
     "name": "stdout",
     "output_type": "stream",
     "text": [
      "[{'text': '버거는 1955버거를 선택해주시고,\\n                사이드는 후렌치 후라이를 선택,\\n                음료는 코카콜라를 선택하시고\\n                주문하기 버튼을 눌러주세요.'}]\n",
      "버거는 1955버거를 선택해주시고,\n",
      "                사이드는 후렌치 후라이를 선택,\n",
      "                음료는 코카콜라를 선택하시고\n",
      "                주문하기 버튼을 눌러주세요.\n"
     ]
    },
    {
     "name": "stderr",
     "output_type": "stream",
     "text": [
      "127.0.0.1 - - [31/Jul/2024 20:05:12] \"POST /data HTTP/1.1\" 200 -\n"
     ]
    },
    {
     "name": "stdout",
     "output_type": "stream",
     "text": [
      "[{'text': '1955버거를 선택해 주세요'}, {'text': '버거는 1955버거를 선택해주시고,\\n                사이드는 후렌치 후라이를 선택,\\n                음료는 코카콜라를 선택하시고\\n                주문하기 버튼을 눌러주세요.'}, {'text': '세트선택을 선택해주세요.'}, {'text': '후렌치 후라이를 선택해주세요.'}, {'text': '코카콜라를 선택해주세요.'}, {'text': '장바구니에 추가를 선택해주세요.'}, {'text': '주문하기버튼을 눌러주세요.'}, {'text': '결제하기버튼을 눌러주세요.'}, {'text': '\\n                주문번호는 123번 입니다. 주문번호를 확인하시고음식을 가져가주세요.\\n            '}]\n",
      "1955버거를 선택해 주세요\n",
      "버거는 1955버거를 선택해주시고,\n",
      "                사이드는 후렌치 후라이를 선택,\n",
      "                음료는 코카콜라를 선택하시고\n",
      "                주문하기 버튼을 눌러주세요.\n",
      "세트선택을 선택해주세요.\n",
      "후렌치 후라이를 선택해주세요.\n",
      "코카콜라를 선택해주세요.\n",
      "장바구니에 추가를 선택해주세요.\n",
      "주문하기버튼을 눌러주세요.\n",
      "결제하기버튼을 눌러주세요.\n",
      "\n",
      "                주문번호는 123번 입니다. 주문번호를 확인하시고음식을 가져가주세요.\n",
      "            \n"
     ]
    },
    {
     "name": "stderr",
     "output_type": "stream",
     "text": [
      "127.0.0.1 - - [31/Jul/2024 20:06:00] \"POST /data HTTP/1.1\" 200 -\n"
     ]
    },
    {
     "name": "stdout",
     "output_type": "stream",
     "text": [
      "[{'text': '버거는 1955버거를 선택해주시고,\\n                사이드는 후렌치 후라이를 선택,\\n                음료는 코카콜라를 선택하시고\\n                주문하기 버튼을 눌러주세요.'}]\n",
      "버거는 1955버거를 선택해주시고,\n",
      "                사이드는 후렌치 후라이를 선택,\n",
      "                음료는 코카콜라를 선택하시고\n",
      "                주문하기 버튼을 눌러주세요.\n"
     ]
    },
    {
     "name": "stderr",
     "output_type": "stream",
     "text": [
      "127.0.0.1 - - [31/Jul/2024 20:06:54] \"POST /data HTTP/1.1\" 200 -\n"
     ]
    },
    {
     "name": "stdout",
     "output_type": "stream",
     "text": [
      "[{'text': '1955버거를 선택해 주세요'}, {'text': '버거는 1955버거를 선택해주시고,\\n                사이드는 후렌치 후라이를 선택,\\n                음료는 코카콜라를 선택하시고\\n                주문하기 버튼을 눌러주세요.'}, {'text': '세트선택을 선택해주세요.'}, {'text': '후렌치 후라이를 선택해주세요.'}, {'text': '코카콜라를 선택해주세요.'}, {'text': '장바구니에 추가를 선택해주세요.'}, {'text': '주문하기버튼을 눌러주세요.'}, {'text': '결제하기버튼을 눌러주세요.'}, {'text': '\\n                주문번호는 123번 입니다. 주문번호를 확인하시고음식을 가져가주세요.\\n            '}]\n",
      "1955버거를 선택해 주세요\n",
      "버거는 1955버거를 선택해주시고,\n",
      "                사이드는 후렌치 후라이를 선택,\n",
      "                음료는 코카콜라를 선택하시고\n",
      "                주문하기 버튼을 눌러주세요.\n",
      "세트선택을 선택해주세요.\n",
      "후렌치 후라이를 선택해주세요.\n",
      "코카콜라를 선택해주세요.\n",
      "장바구니에 추가를 선택해주세요.\n",
      "주문하기버튼을 눌러주세요.\n",
      "결제하기버튼을 눌러주세요.\n",
      "\n",
      "                주문번호는 123번 입니다. 주문번호를 확인하시고음식을 가져가주세요.\n",
      "            \n"
     ]
    },
    {
     "name": "stderr",
     "output_type": "stream",
     "text": [
      "127.0.0.1 - - [31/Jul/2024 20:07:31] \"POST /data HTTP/1.1\" 200 -\n"
     ]
    }
   ],
   "source": [
    "from flask import Flask, jsonify, request\n",
    "from flask_cors import CORS\n",
    "from transformers import M2M100ForConditionalGeneration, M2M100Tokenizer\n",
    "\n",
    "app = Flask(__name__)\n",
    "CORS(app)  # 모든 도메인에 대해 CORS 허용\n",
    "\n",
    "# 모델과 토크나이저 로드\n",
    "model_name = \"facebook/m2m100_418M\"\n",
    "tokenizer = M2M100Tokenizer.from_pretrained(model_name)\n",
    "model = M2M100ForConditionalGeneration.from_pretrained(model_name)\n",
    "\n",
    "def translate(text, src_lang=\"ko\", tgt_lang=\"en\"):\n",
    "    # 소스 언어와 타겟 언어 설정\n",
    "    tokenizer.src_lang = src_lang\n",
    "    tokens = tokenizer(text, return_tensors=\"pt\")\n",
    "    \n",
    "    # 번역 생성\n",
    "    translated_tokens = model.generate(**tokens, forced_bos_token_id=tokenizer.get_lang_id(tgt_lang))\n",
    "    \n",
    "    # 번역된 텍스트 디코딩\n",
    "    translated_text = tokenizer.batch_decode(translated_tokens, skip_special_tokens=True)\n",
    "    return translated_text[0]\n",
    "\n",
    "@app.route('/data', methods=['POST'])\n",
    "def post_data():\n",
    "    data = request.json\n",
    "    arr = []\n",
    "    for i in data:\n",
    "        arr.append(translate(i['text']))\n",
    "    return jsonify(arr)\n",
    "\n",
    "if __name__ == '__main__':\n",
    "    app.run(port=5000)"
   ]
  }
 ],
 "metadata": {
  "kernelspec": {
   "display_name": "flask",
   "language": "python",
   "name": "python3"
  },
  "language_info": {
   "codemirror_mode": {
    "name": "ipython",
    "version": 3
   },
   "file_extension": ".py",
   "mimetype": "text/x-python",
   "name": "python",
   "nbconvert_exporter": "python",
   "pygments_lexer": "ipython3",
   "version": "3.9.19"
  }
 },
 "nbformat": 4,
 "nbformat_minor": 2
}
